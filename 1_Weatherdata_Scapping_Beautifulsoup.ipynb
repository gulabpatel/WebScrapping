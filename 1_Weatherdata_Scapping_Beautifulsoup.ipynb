{
  "nbformat": 4,
  "nbformat_minor": 0,
  "metadata": {
    "colab": {
      "provenance": [],
      "authorship_tag": "ABX9TyOnJxZwx3wryOrW+sIlwLqE",
      "include_colab_link": true
    },
    "kernelspec": {
      "name": "python3",
      "display_name": "Python 3"
    },
    "language_info": {
      "name": "python"
    }
  },
  "cells": [
    {
      "cell_type": "markdown",
      "metadata": {
        "id": "view-in-github",
        "colab_type": "text"
      },
      "source": [
        "<a href=\"https://colab.research.google.com/github/gulabpatel/webScrapping/blob/main/1_Weatherdata_Scapping_Beautifulsoup.ipynb\" target=\"_parent\"><img src=\"https://colab.research.google.com/assets/colab-badge.svg\" alt=\"Open In Colab\"/></a>"
      ]
    },
    {
      "cell_type": "code",
      "execution_count": 1,
      "metadata": {
        "id": "pDRaCFDC1DHd"
      },
      "outputs": [],
      "source": [
        "from bs4 import BeautifulSoup\n",
        "import requests\n",
        "import pandas as pd"
      ]
    },
    {
      "cell_type": "code",
      "source": [
        "# Get links to CSV files\n",
        "def getCSVLinks(url):\n",
        "    try:\n",
        "        html_page = requests.get(url)\n",
        "    except Exception as e:\n",
        "        print(\"An error occurred while making the HTTP request:\", e)\n",
        "        return []\n",
        "    soup = BeautifulSoup(html_page.content, 'lxml')\n",
        "    links = []\n",
        "\n",
        "    for link in soup.findAll('a'):\n",
        "        url = link.get('href')\n",
        "        if url[0] != '#' and url.endswith('.csv'):\n",
        "            links.append(url)\n",
        "\n",
        "    return links"
      ],
      "metadata": {
        "id": "BqL_ksRZ1JbA"
      },
      "execution_count": 2,
      "outputs": []
    },
    {
      "cell_type": "code",
      "source": [
        "# Save name of all the csv files in a list\n",
        "stations = getCSVLinks(\"https://www.ncei.noaa.gov/data/global-hourly/access/2022/\")\n",
        "stations[-5:]"
      ],
      "metadata": {
        "colab": {
          "base_uri": "https://localhost:8080/"
        },
        "id": "JCPFDYLA1u0g",
        "outputId": "abaf2aff-00d2-46fc-c882-8ce7b890145f"
      },
      "execution_count": 4,
      "outputs": [
        {
          "output_type": "execute_result",
          "data": {
            "text/plain": [
              "['A0735500241.csv',\n",
              " 'A0735700182.csv',\n",
              " 'A0735900240.csv',\n",
              " 'A5125500445.csv',\n",
              " 'A5125600451.csv']"
            ]
          },
          "metadata": {},
          "execution_count": 4
        }
      ]
    },
    {
      "cell_type": "code",
      "source": [
        "# Add base URL to each link to create a full URL\n",
        "for i in range(len(stations)):\n",
        "    stations[i] = \"https://www.ncei.noaa.gov/data/global-hourly/access/2022/\" + stations[i]"
      ],
      "metadata": {
        "id": "15uSTyyf1Man"
      },
      "execution_count": 5,
      "outputs": []
    },
    {
      "cell_type": "code",
      "source": [
        "stations[-5:]"
      ],
      "metadata": {
        "colab": {
          "base_uri": "https://localhost:8080/"
        },
        "id": "n5AV_X3H2KBB",
        "outputId": "a56ff01b-da2d-4efb-9b18-0c657ba0b546"
      },
      "execution_count": 6,
      "outputs": [
        {
          "output_type": "execute_result",
          "data": {
            "text/plain": [
              "['https://www.ncei.noaa.gov/data/global-hourly/access/2022/A0735500241.csv',\n",
              " 'https://www.ncei.noaa.gov/data/global-hourly/access/2022/A0735700182.csv',\n",
              " 'https://www.ncei.noaa.gov/data/global-hourly/access/2022/A0735900240.csv',\n",
              " 'https://www.ncei.noaa.gov/data/global-hourly/access/2022/A5125500445.csv',\n",
              " 'https://www.ncei.noaa.gov/data/global-hourly/access/2022/A5125600451.csv']"
            ]
          },
          "metadata": {},
          "execution_count": 6
        }
      ]
    },
    {
      "cell_type": "code",
      "source": [
        "# Read and save each CSV file\n",
        "for i in range(len(stations)):\n",
        "    try:\n",
        "        df = pd.read_csv(stations[i], low_memory=False)\n",
        "    except Exception as e:\n",
        "        print(\"An error occurred while reading the CSV file:\", e)\n",
        "        continue\n",
        "    print(df[\"STATION\"].unique())\n",
        "    df.to_csv(str(df[\"STATION\"].unique()) + \".csv\")"
      ],
      "metadata": {
        "id": "LIWNxbKm1MXx"
      },
      "execution_count": null,
      "outputs": []
    }
  ]
}